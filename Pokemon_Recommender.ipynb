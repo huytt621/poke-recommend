{
 "cells": [
  {
   "cell_type": "code",
   "execution_count": 1,
   "id": "6eb32dfd-7c5d-4f76-80af-95d0662a7607",
   "metadata": {},
   "outputs": [],
   "source": [
    "import numpy as np\n",
    "import pandas as pd\n",
    "import json\n",
    "import matplotlib.pyplot as plt\n",
    "\n",
    "from recommenders import knn_recommender\n",
    "from recommenders import cosine_recommender"
   ]
  },
  {
   "cell_type": "markdown",
   "id": "74b2311f-6025-4109-997c-e91c4410ff16",
   "metadata": {},
   "source": [
    "# Read Pokemon Data"
   ]
  },
  {
   "cell_type": "code",
   "execution_count": 2,
   "id": "a75c70a4-1d7c-4cfd-9111-13fe4895e771",
   "metadata": {},
   "outputs": [],
   "source": [
    "pokemon_dict = {}\n",
    "# with open('pokemon.json', 'r') as file:\n",
    "with open('50-pokemon.json', 'r') as file:\n",
    "    pokemon_dict = json.load(file)"
   ]
  },
  {
   "cell_type": "code",
   "execution_count": 3,
   "id": "756f539f-2476-4263-926b-d273c440fc5c",
   "metadata": {},
   "outputs": [
    {
     "data": {
      "text/html": [
       "<div>\n",
       "<style scoped>\n",
       "    .dataframe tbody tr th:only-of-type {\n",
       "        vertical-align: middle;\n",
       "    }\n",
       "\n",
       "    .dataframe tbody tr th {\n",
       "        vertical-align: top;\n",
       "    }\n",
       "\n",
       "    .dataframe thead th {\n",
       "        text-align: right;\n",
       "    }\n",
       "</style>\n",
       "<table border=\"1\" class=\"dataframe\">\n",
       "  <thead>\n",
       "    <tr style=\"text-align: right;\">\n",
       "      <th></th>\n",
       "      <th>abilities</th>\n",
       "      <th>height</th>\n",
       "      <th>name</th>\n",
       "      <th>stats</th>\n",
       "      <th>types</th>\n",
       "      <th>weight</th>\n",
       "    </tr>\n",
       "  </thead>\n",
       "  <tbody>\n",
       "    <tr>\n",
       "      <th>0</th>\n",
       "      <td>[{'ability': {'name': 'overgrow', 'url': 'http...</td>\n",
       "      <td>7</td>\n",
       "      <td>bulbasaur</td>\n",
       "      <td>[{'base_stat': 45, 'effort': 0, 'stat': {'name...</td>\n",
       "      <td>[{'slot': 1, 'type': {'name': 'grass', 'url': ...</td>\n",
       "      <td>69</td>\n",
       "    </tr>\n",
       "    <tr>\n",
       "      <th>1</th>\n",
       "      <td>[{'ability': {'name': 'overgrow', 'url': 'http...</td>\n",
       "      <td>10</td>\n",
       "      <td>ivysaur</td>\n",
       "      <td>[{'base_stat': 60, 'effort': 0, 'stat': {'name...</td>\n",
       "      <td>[{'slot': 1, 'type': {'name': 'grass', 'url': ...</td>\n",
       "      <td>130</td>\n",
       "    </tr>\n",
       "    <tr>\n",
       "      <th>2</th>\n",
       "      <td>[{'ability': {'name': 'overgrow', 'url': 'http...</td>\n",
       "      <td>20</td>\n",
       "      <td>venusaur</td>\n",
       "      <td>[{'base_stat': 80, 'effort': 0, 'stat': {'name...</td>\n",
       "      <td>[{'slot': 1, 'type': {'name': 'grass', 'url': ...</td>\n",
       "      <td>1000</td>\n",
       "    </tr>\n",
       "    <tr>\n",
       "      <th>3</th>\n",
       "      <td>[{'ability': {'name': 'blaze', 'url': 'https:/...</td>\n",
       "      <td>6</td>\n",
       "      <td>charmander</td>\n",
       "      <td>[{'base_stat': 39, 'effort': 0, 'stat': {'name...</td>\n",
       "      <td>[{'slot': 1, 'type': {'name': 'fire', 'url': '...</td>\n",
       "      <td>85</td>\n",
       "    </tr>\n",
       "    <tr>\n",
       "      <th>4</th>\n",
       "      <td>[{'ability': {'name': 'blaze', 'url': 'https:/...</td>\n",
       "      <td>11</td>\n",
       "      <td>charmeleon</td>\n",
       "      <td>[{'base_stat': 58, 'effort': 0, 'stat': {'name...</td>\n",
       "      <td>[{'slot': 1, 'type': {'name': 'fire', 'url': '...</td>\n",
       "      <td>190</td>\n",
       "    </tr>\n",
       "  </tbody>\n",
       "</table>\n",
       "</div>"
      ],
      "text/plain": [
       "                                           abilities  height        name  \\\n",
       "0  [{'ability': {'name': 'overgrow', 'url': 'http...       7   bulbasaur   \n",
       "1  [{'ability': {'name': 'overgrow', 'url': 'http...      10     ivysaur   \n",
       "2  [{'ability': {'name': 'overgrow', 'url': 'http...      20    venusaur   \n",
       "3  [{'ability': {'name': 'blaze', 'url': 'https:/...       6  charmander   \n",
       "4  [{'ability': {'name': 'blaze', 'url': 'https:/...      11  charmeleon   \n",
       "\n",
       "                                               stats  \\\n",
       "0  [{'base_stat': 45, 'effort': 0, 'stat': {'name...   \n",
       "1  [{'base_stat': 60, 'effort': 0, 'stat': {'name...   \n",
       "2  [{'base_stat': 80, 'effort': 0, 'stat': {'name...   \n",
       "3  [{'base_stat': 39, 'effort': 0, 'stat': {'name...   \n",
       "4  [{'base_stat': 58, 'effort': 0, 'stat': {'name...   \n",
       "\n",
       "                                               types  weight  \n",
       "0  [{'slot': 1, 'type': {'name': 'grass', 'url': ...      69  \n",
       "1  [{'slot': 1, 'type': {'name': 'grass', 'url': ...     130  \n",
       "2  [{'slot': 1, 'type': {'name': 'grass', 'url': ...    1000  \n",
       "3  [{'slot': 1, 'type': {'name': 'fire', 'url': '...      85  \n",
       "4  [{'slot': 1, 'type': {'name': 'fire', 'url': '...     190  "
      ]
     },
     "execution_count": 3,
     "metadata": {},
     "output_type": "execute_result"
    }
   ],
   "source": [
    "full_pokemon_df = pd.json_normalize(pokemon_dict['pokemon'])\n",
    "desired_cols = ['abilities', 'height', 'name', 'stats', 'types', 'weight']\n",
    "pokemon_df = full_pokemon_df[desired_cols]\n",
    "pokemon_df.head()"
   ]
  },
  {
   "cell_type": "markdown",
   "id": "ceb5fb9a-2cf8-4794-a1e8-78ad8c4ee90d",
   "metadata": {},
   "source": [
    "# Format Pokemon Data"
   ]
  },
  {
   "cell_type": "code",
   "execution_count": 4,
   "id": "973b11ad-9d21-4d19-8e9d-85d81b514ca9",
   "metadata": {},
   "outputs": [
    {
     "data": {
      "text/html": [
       "<div>\n",
       "<style scoped>\n",
       "    .dataframe tbody tr th:only-of-type {\n",
       "        vertical-align: middle;\n",
       "    }\n",
       "\n",
       "    .dataframe tbody tr th {\n",
       "        vertical-align: top;\n",
       "    }\n",
       "\n",
       "    .dataframe thead th {\n",
       "        text-align: right;\n",
       "    }\n",
       "</style>\n",
       "<table border=\"1\" class=\"dataframe\">\n",
       "  <thead>\n",
       "    <tr style=\"text-align: right;\">\n",
       "      <th></th>\n",
       "      <th>ability 0</th>\n",
       "      <th>ability 1</th>\n",
       "      <th>ability 2</th>\n",
       "    </tr>\n",
       "  </thead>\n",
       "  <tbody>\n",
       "    <tr>\n",
       "      <th>0</th>\n",
       "      <td>overgrow</td>\n",
       "      <td>chlorophyll</td>\n",
       "      <td>None</td>\n",
       "    </tr>\n",
       "    <tr>\n",
       "      <th>1</th>\n",
       "      <td>overgrow</td>\n",
       "      <td>chlorophyll</td>\n",
       "      <td>None</td>\n",
       "    </tr>\n",
       "    <tr>\n",
       "      <th>2</th>\n",
       "      <td>overgrow</td>\n",
       "      <td>chlorophyll</td>\n",
       "      <td>None</td>\n",
       "    </tr>\n",
       "    <tr>\n",
       "      <th>3</th>\n",
       "      <td>blaze</td>\n",
       "      <td>solar-power</td>\n",
       "      <td>None</td>\n",
       "    </tr>\n",
       "    <tr>\n",
       "      <th>4</th>\n",
       "      <td>blaze</td>\n",
       "      <td>solar-power</td>\n",
       "      <td>None</td>\n",
       "    </tr>\n",
       "  </tbody>\n",
       "</table>\n",
       "</div>"
      ],
      "text/plain": [
       "  ability 0    ability 1 ability 2\n",
       "0  overgrow  chlorophyll      None\n",
       "1  overgrow  chlorophyll      None\n",
       "2  overgrow  chlorophyll      None\n",
       "3     blaze  solar-power      None\n",
       "4     blaze  solar-power      None"
      ]
     },
     "execution_count": 4,
     "metadata": {},
     "output_type": "execute_result"
    }
   ],
   "source": [
    "abilities = pokemon_df['abilities'].values\n",
    "formatted_abilities = list(map(lambda list_val: {'ability {}'.format(i): list_val[i]['ability']['name'] if i < len(list_val) else 'None' for i in range(3)}, abilities))\n",
    "abilities_df = pd.DataFrame.from_dict(formatted_abilities)\n",
    "abilities_df.head()"
   ]
  },
  {
   "cell_type": "code",
   "execution_count": 5,
   "id": "d143f74e-5dc3-4d7c-bbab-b7184312a50d",
   "metadata": {},
   "outputs": [
    {
     "data": {
      "text/html": [
       "<div>\n",
       "<style scoped>\n",
       "    .dataframe tbody tr th:only-of-type {\n",
       "        vertical-align: middle;\n",
       "    }\n",
       "\n",
       "    .dataframe tbody tr th {\n",
       "        vertical-align: top;\n",
       "    }\n",
       "\n",
       "    .dataframe thead th {\n",
       "        text-align: right;\n",
       "    }\n",
       "</style>\n",
       "<table border=\"1\" class=\"dataframe\">\n",
       "  <thead>\n",
       "    <tr style=\"text-align: right;\">\n",
       "      <th></th>\n",
       "      <th>hp</th>\n",
       "      <th>attack</th>\n",
       "      <th>defense</th>\n",
       "      <th>special-attack</th>\n",
       "      <th>special-defense</th>\n",
       "      <th>speed</th>\n",
       "    </tr>\n",
       "  </thead>\n",
       "  <tbody>\n",
       "    <tr>\n",
       "      <th>0</th>\n",
       "      <td>45</td>\n",
       "      <td>49</td>\n",
       "      <td>49</td>\n",
       "      <td>65</td>\n",
       "      <td>65</td>\n",
       "      <td>45</td>\n",
       "    </tr>\n",
       "    <tr>\n",
       "      <th>1</th>\n",
       "      <td>60</td>\n",
       "      <td>62</td>\n",
       "      <td>63</td>\n",
       "      <td>80</td>\n",
       "      <td>80</td>\n",
       "      <td>60</td>\n",
       "    </tr>\n",
       "    <tr>\n",
       "      <th>2</th>\n",
       "      <td>80</td>\n",
       "      <td>82</td>\n",
       "      <td>83</td>\n",
       "      <td>100</td>\n",
       "      <td>100</td>\n",
       "      <td>80</td>\n",
       "    </tr>\n",
       "    <tr>\n",
       "      <th>3</th>\n",
       "      <td>39</td>\n",
       "      <td>52</td>\n",
       "      <td>43</td>\n",
       "      <td>60</td>\n",
       "      <td>50</td>\n",
       "      <td>65</td>\n",
       "    </tr>\n",
       "    <tr>\n",
       "      <th>4</th>\n",
       "      <td>58</td>\n",
       "      <td>64</td>\n",
       "      <td>58</td>\n",
       "      <td>80</td>\n",
       "      <td>65</td>\n",
       "      <td>80</td>\n",
       "    </tr>\n",
       "  </tbody>\n",
       "</table>\n",
       "</div>"
      ],
      "text/plain": [
       "   hp  attack  defense  special-attack  special-defense  speed\n",
       "0  45      49       49              65               65     45\n",
       "1  60      62       63              80               80     60\n",
       "2  80      82       83             100              100     80\n",
       "3  39      52       43              60               50     65\n",
       "4  58      64       58              80               65     80"
      ]
     },
     "execution_count": 5,
     "metadata": {},
     "output_type": "execute_result"
    }
   ],
   "source": [
    "stats = pokemon_df['stats'].values\n",
    "formatted_stats = list(map(lambda list_val: {stat['stat']['name']: stat['base_stat'] for i, stat in enumerate(list_val)}, stats))\n",
    "stats_df = pd.DataFrame.from_dict(formatted_stats)\n",
    "stats_df.head()"
   ]
  },
  {
   "cell_type": "code",
   "execution_count": 6,
   "id": "18b82541-751f-469a-97d9-b557e406e41d",
   "metadata": {},
   "outputs": [
    {
     "data": {
      "text/html": [
       "<div>\n",
       "<style scoped>\n",
       "    .dataframe tbody tr th:only-of-type {\n",
       "        vertical-align: middle;\n",
       "    }\n",
       "\n",
       "    .dataframe tbody tr th {\n",
       "        vertical-align: top;\n",
       "    }\n",
       "\n",
       "    .dataframe thead th {\n",
       "        text-align: right;\n",
       "    }\n",
       "</style>\n",
       "<table border=\"1\" class=\"dataframe\">\n",
       "  <thead>\n",
       "    <tr style=\"text-align: right;\">\n",
       "      <th></th>\n",
       "      <th>type 0</th>\n",
       "      <th>type 1</th>\n",
       "    </tr>\n",
       "  </thead>\n",
       "  <tbody>\n",
       "    <tr>\n",
       "      <th>0</th>\n",
       "      <td>grass</td>\n",
       "      <td>poison</td>\n",
       "    </tr>\n",
       "    <tr>\n",
       "      <th>1</th>\n",
       "      <td>grass</td>\n",
       "      <td>poison</td>\n",
       "    </tr>\n",
       "    <tr>\n",
       "      <th>2</th>\n",
       "      <td>grass</td>\n",
       "      <td>poison</td>\n",
       "    </tr>\n",
       "    <tr>\n",
       "      <th>3</th>\n",
       "      <td>fire</td>\n",
       "      <td>None</td>\n",
       "    </tr>\n",
       "    <tr>\n",
       "      <th>4</th>\n",
       "      <td>fire</td>\n",
       "      <td>None</td>\n",
       "    </tr>\n",
       "  </tbody>\n",
       "</table>\n",
       "</div>"
      ],
      "text/plain": [
       "  type 0  type 1\n",
       "0  grass  poison\n",
       "1  grass  poison\n",
       "2  grass  poison\n",
       "3   fire    None\n",
       "4   fire    None"
      ]
     },
     "execution_count": 6,
     "metadata": {},
     "output_type": "execute_result"
    }
   ],
   "source": [
    "types = pokemon_df['types'].values\n",
    "formatted_types = list(map(lambda list_val: {'type {}'.format(i): list_val[i]['type']['name'] if i < len(list_val) else 'None' for i in range(2)}, types))\n",
    "types_df = pd.DataFrame.from_dict(formatted_types)\n",
    "types_df.head()"
   ]
  },
  {
   "cell_type": "code",
   "execution_count": 7,
   "id": "bd2dca5a-28de-4a51-aa24-f58049ed9d83",
   "metadata": {},
   "outputs": [
    {
     "data": {
      "text/html": [
       "<div>\n",
       "<style scoped>\n",
       "    .dataframe tbody tr th:only-of-type {\n",
       "        vertical-align: middle;\n",
       "    }\n",
       "\n",
       "    .dataframe tbody tr th {\n",
       "        vertical-align: top;\n",
       "    }\n",
       "\n",
       "    .dataframe thead th {\n",
       "        text-align: right;\n",
       "    }\n",
       "</style>\n",
       "<table border=\"1\" class=\"dataframe\">\n",
       "  <thead>\n",
       "    <tr style=\"text-align: right;\">\n",
       "      <th></th>\n",
       "      <th>height</th>\n",
       "      <th>name</th>\n",
       "      <th>weight</th>\n",
       "      <th>ability 0</th>\n",
       "      <th>ability 1</th>\n",
       "      <th>ability 2</th>\n",
       "      <th>hp</th>\n",
       "      <th>attack</th>\n",
       "      <th>defense</th>\n",
       "      <th>special-attack</th>\n",
       "      <th>special-defense</th>\n",
       "      <th>speed</th>\n",
       "      <th>type 0</th>\n",
       "      <th>type 1</th>\n",
       "    </tr>\n",
       "  </thead>\n",
       "  <tbody>\n",
       "    <tr>\n",
       "      <th>0</th>\n",
       "      <td>7</td>\n",
       "      <td>bulbasaur</td>\n",
       "      <td>69</td>\n",
       "      <td>overgrow</td>\n",
       "      <td>chlorophyll</td>\n",
       "      <td>None</td>\n",
       "      <td>45</td>\n",
       "      <td>49</td>\n",
       "      <td>49</td>\n",
       "      <td>65</td>\n",
       "      <td>65</td>\n",
       "      <td>45</td>\n",
       "      <td>grass</td>\n",
       "      <td>poison</td>\n",
       "    </tr>\n",
       "    <tr>\n",
       "      <th>1</th>\n",
       "      <td>10</td>\n",
       "      <td>ivysaur</td>\n",
       "      <td>130</td>\n",
       "      <td>overgrow</td>\n",
       "      <td>chlorophyll</td>\n",
       "      <td>None</td>\n",
       "      <td>60</td>\n",
       "      <td>62</td>\n",
       "      <td>63</td>\n",
       "      <td>80</td>\n",
       "      <td>80</td>\n",
       "      <td>60</td>\n",
       "      <td>grass</td>\n",
       "      <td>poison</td>\n",
       "    </tr>\n",
       "    <tr>\n",
       "      <th>2</th>\n",
       "      <td>20</td>\n",
       "      <td>venusaur</td>\n",
       "      <td>1000</td>\n",
       "      <td>overgrow</td>\n",
       "      <td>chlorophyll</td>\n",
       "      <td>None</td>\n",
       "      <td>80</td>\n",
       "      <td>82</td>\n",
       "      <td>83</td>\n",
       "      <td>100</td>\n",
       "      <td>100</td>\n",
       "      <td>80</td>\n",
       "      <td>grass</td>\n",
       "      <td>poison</td>\n",
       "    </tr>\n",
       "    <tr>\n",
       "      <th>3</th>\n",
       "      <td>6</td>\n",
       "      <td>charmander</td>\n",
       "      <td>85</td>\n",
       "      <td>blaze</td>\n",
       "      <td>solar-power</td>\n",
       "      <td>None</td>\n",
       "      <td>39</td>\n",
       "      <td>52</td>\n",
       "      <td>43</td>\n",
       "      <td>60</td>\n",
       "      <td>50</td>\n",
       "      <td>65</td>\n",
       "      <td>fire</td>\n",
       "      <td>None</td>\n",
       "    </tr>\n",
       "    <tr>\n",
       "      <th>4</th>\n",
       "      <td>11</td>\n",
       "      <td>charmeleon</td>\n",
       "      <td>190</td>\n",
       "      <td>blaze</td>\n",
       "      <td>solar-power</td>\n",
       "      <td>None</td>\n",
       "      <td>58</td>\n",
       "      <td>64</td>\n",
       "      <td>58</td>\n",
       "      <td>80</td>\n",
       "      <td>65</td>\n",
       "      <td>80</td>\n",
       "      <td>fire</td>\n",
       "      <td>None</td>\n",
       "    </tr>\n",
       "  </tbody>\n",
       "</table>\n",
       "</div>"
      ],
      "text/plain": [
       "   height        name  weight ability 0    ability 1 ability 2  hp  attack  \\\n",
       "0       7   bulbasaur      69  overgrow  chlorophyll      None  45      49   \n",
       "1      10     ivysaur     130  overgrow  chlorophyll      None  60      62   \n",
       "2      20    venusaur    1000  overgrow  chlorophyll      None  80      82   \n",
       "3       6  charmander      85     blaze  solar-power      None  39      52   \n",
       "4      11  charmeleon     190     blaze  solar-power      None  58      64   \n",
       "\n",
       "   defense  special-attack  special-defense  speed type 0  type 1  \n",
       "0       49              65               65     45  grass  poison  \n",
       "1       63              80               80     60  grass  poison  \n",
       "2       83             100              100     80  grass  poison  \n",
       "3       43              60               50     65   fire    None  \n",
       "4       58              80               65     80   fire    None  "
      ]
     },
     "execution_count": 7,
     "metadata": {},
     "output_type": "execute_result"
    }
   ],
   "source": [
    "pokemon_df = pd.concat([pokemon_df, abilities_df, stats_df, types_df], axis=1).drop(['abilities', 'stats', 'types'], axis=1)\n",
    "pokemon_df.head()"
   ]
  },
  {
   "cell_type": "markdown",
   "id": "2b79aea1-c182-4bb7-8c95-fec797f0ed64",
   "metadata": {},
   "source": [
    "# Recommenders"
   ]
  },
  {
   "cell_type": "markdown",
   "id": "664db4e1-8915-490d-b84f-3681ac08ad8d",
   "metadata": {},
   "source": [
    "The following recommender uses K-Nearest Neighbors, using raw Pokemon stats as data"
   ]
  },
  {
   "cell_type": "code",
   "execution_count": 8,
   "id": "94689916-9328-43c0-bb4b-a638cb743372",
   "metadata": {},
   "outputs": [],
   "source": [
    "knn = knn_recommender()\n",
    "knn.create(pokemon_df)"
   ]
  },
  {
   "cell_type": "markdown",
   "id": "480b8d95-7e0c-45aa-9390-f63c13a10984",
   "metadata": {},
   "source": [
    "Based on this model, Charizard is similar to Venusaur, Ninetails, Nidoking, Venomoth, and Raichu"
   ]
  },
  {
   "cell_type": "code",
   "execution_count": 9,
   "id": "f18632ee-2504-4e49-a623-5b1d862efdc5",
   "metadata": {},
   "outputs": [
    {
     "name": "stdout",
     "output_type": "stream",
     "text": [
      "5     charizard\n",
      "2      venusaur\n",
      "37    ninetales\n",
      "33     nidoking\n",
      "48     venomoth\n",
      "25       raichu\n",
      "Name: name, dtype: object\n"
     ]
    }
   ],
   "source": [
    "distances, indices = knn.recommend('charizard')\n",
    "for i in indices:\n",
    "    print(knn.get_pokemon(i))"
   ]
  },
  {
   "cell_type": "markdown",
   "id": "2549fc0b-fa8b-4114-bd8d-876ec36a5241",
   "metadata": {},
   "source": [
    "The following recommender again uses K-Nearest Neighbors, but using the distribution of Pokemon stats instead"
   ]
  },
  {
   "cell_type": "code",
   "execution_count": 10,
   "id": "4016228b-eeca-4426-a68f-235ec4493b37",
   "metadata": {},
   "outputs": [],
   "source": [
    "knn_prop = knn_recommender()\n",
    "knn_prop.create(pokemon_df, proportions=True)"
   ]
  },
  {
   "cell_type": "markdown",
   "id": "6ce34dbe-747a-4ede-a9bf-9e1159ce1220",
   "metadata": {},
   "source": [
    "As predicted, the Pokemon most similar to Charizard include the Charmander family line"
   ]
  },
  {
   "cell_type": "code",
   "execution_count": 11,
   "id": "c12e011b-cee5-4021-9733-7743a11b44c3",
   "metadata": {},
   "outputs": [
    {
     "name": "stdout",
     "output_type": "stream",
     "text": [
      "5      charizard\n",
      "4     charmeleon\n",
      "48      venomoth\n",
      "3     charmander\n",
      "2       venusaur\n",
      "1        ivysaur\n",
      "Name: name, dtype: object\n"
     ]
    }
   ],
   "source": [
    "distances, indices = knn_prop.recommend('charizard')\n",
    "for i in indices:\n",
    "    print(knn_prop.get_pokemon(i))"
   ]
  },
  {
   "cell_type": "markdown",
   "id": "4cc9d2c3-cdb2-41fe-bf8d-e288f6cad7da",
   "metadata": {},
   "source": [
    "The intention of this project is to determine unexpectedly similar Pokemon. One example of this is how similar (stat-wise) Charizard and Venomoth are, having similar raw stats and also a similar distribution."
   ]
  },
  {
   "cell_type": "code",
   "execution_count": 12,
   "id": "8c1c37f4-df22-4541-9ca4-0c32ea406011",
   "metadata": {},
   "outputs": [
    {
     "data": {
      "text/plain": [
       "<AxesSubplot:title={'center':'Charizard Stats vs. Venomoth Stats'}, xlabel='Base Stat'>"
      ]
     },
     "execution_count": 12,
     "metadata": {},
     "output_type": "execute_result"
    },
    {
     "data": {
      "image/png": "[encoded data removed]",
      "text/plain": [
       "<Figure size 432x288 with 1 Axes>"
      ]
     },
     "metadata": {
      "needs_background": "light"
     },
     "output_type": "display_data"
    }
   ],
   "source": [
    "char_veno_df = pokemon_df[(pokemon_df['name'] == 'charizard') | (pokemon_df['name'] == 'venomoth')]\n",
    "char_veno_stats = char_veno_df[['name', 'hp', 'attack', 'defense', 'special-attack', 'special-defense', 'speed']]\n",
    "charizard_stats = char_veno_stats.drop(['name'], axis=1).iloc[0].values\n",
    "venomoth_stats = char_veno_stats.drop(['name'], axis=1).iloc[1].values\n",
    "plot_df = pd.DataFrame({'Charizard': charizard_stats, 'Venomoth': venomoth_stats}, index=['hp', 'attack', 'defense', 'special-attack', 'special-defense', 'speed'])\n",
    "stat_plot = plot_df.plot(kind=\"barh\", title=\"Charizard Stats vs. Venomoth Stats\",\n",
    "        color={\"orange\", \"purple\"})\n",
    "stat_plot.set_xlabel('Base Stat')\n",
    "stat_plot"
   ]
  },
  {
   "cell_type": "code",
   "execution_count": 13,
   "id": "b7909f83-6c35-4431-80f4-90df3a7076af",
   "metadata": {},
   "outputs": [
    {
     "data": {
      "text/plain": [
       "<AxesSubplot:title={'center':'Charizard Stat Distribution vs. Venomoth Stat Distribution'}, xlabel='Proportion of Total Stat'>"
      ]
     },
     "execution_count": 13,
     "metadata": {},
     "output_type": "execute_result"
    },
    {
     "data": {
      "image/png": "[encoded data removed]",
      "text/plain": [
       "<Figure size 432x288 with 1 Axes>"
      ]
     },
     "metadata": {
      "needs_background": "light"
     },
     "output_type": "display_data"
    }
   ],
   "source": [
    "charizard_prop = char_veno_stats.drop(['name'], axis=1).iloc[0].values\n",
    "charizard_prop = charizard_prop / sum(charizard_prop)\n",
    "venomoth_prop = char_veno_stats.drop(['name'], axis=1).iloc[1].values\n",
    "venomoth_prop = venomoth_prop / sum(venomoth_prop)\n",
    "plot_prop_df = pd.DataFrame({'Charizard': charizard_prop, 'Venomoth': venomoth_prop}, index=['hp', 'attack', 'defense', 'special-attack', 'special-defense', 'speed'])\n",
    "stat_prop_plot = plot_prop_df.plot(kind=\"barh\", title=\"Charizard Stat Distribution vs. Venomoth Stat Distribution\",\n",
    "        color={\"orange\", \"purple\"})\n",
    "stat_prop_plot.set_xlabel('Proportion of Total Stat')\n",
    "stat_prop_plot"
   ]
  },
  {
   "cell_type": "code",
   "execution_count": 14,
   "id": "48a5f198-2098-4663-aa9c-0609863a6494",
   "metadata": {},
   "outputs": [],
   "source": [
    "cosine = cosine_recommender()\n",
    "cosine.create(pokemon_df)"
   ]
  },
  {
   "cell_type": "code",
   "execution_count": 17,
   "id": "4550384b-6348-4e46-bf2e-31cf97b577ec",
   "metadata": {},
   "outputs": [
    {
     "name": "stdout",
     "output_type": "stream",
     "text": [
      "1.0000000000000002 charizard\n",
      "0.8660254037844387 charmander\n",
      "0.8660254037844387 charmeleon\n",
      "0.5163977794943223 vulpix\n",
      "0.5163977794943223 ninetales\n",
      "0.35355339059327384 metapod\n"
     ]
    }
   ],
   "source": [
    "pairs = cosine.recommend('charizard')\n",
    "for similarity, index in pairs:\n",
    "    print(similarity, cosine.get_pokemon(index))"
   ]
  },
  {
   "cell_type": "code",
   "execution_count": null,
   "id": "5ea52f75-6f75-4a82-b1b6-bf5ad0935502",
   "metadata": {},
   "outputs": [],
   "source": []
  }
 ],
 "metadata": {
  "kernelspec": {
   "display_name": "Python 3 (ipykernel)",
   "language": "python",
   "name": "python3"
  },
  "language_info": {
   "codemirror_mode": {
    "name": "ipython",
    "version": 3
   },
   "file_extension": ".py",
   "mimetype": "text/x-python",
   "name": "python",
   "nbconvert_exporter": "python",
   "pygments_lexer": "ipython3",
   "version": "3.10.1"
  }
 },
 "nbformat": 4,
 "nbformat_minor": 5
}
